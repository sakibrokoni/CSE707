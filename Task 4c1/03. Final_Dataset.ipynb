{
  "cells": [
    {
      "cell_type": "code",
      "execution_count": null,
      "id": "f980d2e8",
      "metadata": {
        "id": "f980d2e8"
      },
      "outputs": [],
      "source": [
        "import pandas as pd\n",
        "import numpy as np"
      ]
    },
    {
      "cell_type": "code",
      "execution_count": null,
      "id": "32a0dfaf",
      "metadata": {
        "id": "32a0dfaf"
      },
      "outputs": [],
      "source": [
        "frames = []\n",
        "for i in range(1,11,1):\n",
        "    df = pd.read_csv(f'IMDB 30k Movie dataset part{i}.csv')\n",
        "    frames.append(df)"
      ]
    },
    {
      "cell_type": "code",
      "execution_count": null,
      "id": "530d9576",
      "metadata": {
        "id": "530d9576"
      },
      "outputs": [],
      "source": [
        "result = pd.concat(frames)"
      ]
    },
    {
      "cell_type": "code",
      "execution_count": null,
      "id": "ef219c67",
      "metadata": {
        "id": "ef219c67",
        "outputId": "bf295de4-bc5d-49c9-9e56-11dc8ecf6c1d"
      },
      "outputs": [
        {
          "data": {
            "text/plain": [
              "(29803, 10)"
            ]
          },
          "execution_count": 6,
          "metadata": {},
          "output_type": "execute_result"
        }
      ],
      "source": [
        "result.shape"
      ]
    },
    {
      "cell_type": "code",
      "execution_count": null,
      "id": "86a601eb",
      "metadata": {
        "id": "86a601eb"
      },
      "outputs": [],
      "source": [
        "result = result.drop_duplicates()"
      ]
    },
    {
      "cell_type": "code",
      "execution_count": null,
      "id": "d0b44f70",
      "metadata": {
        "id": "d0b44f70",
        "outputId": "2011a3c5-2aa5-4d0e-f170-bf792f80fdcc"
      },
      "outputs": [
        {
          "data": {
            "text/plain": [
              "(29387, 10)"
            ]
          },
          "execution_count": 18,
          "metadata": {},
          "output_type": "execute_result"
        }
      ],
      "source": [
        "result.shape"
      ]
    },
    {
      "cell_type": "code",
      "execution_count": null,
      "id": "4e9911a0",
      "metadata": {
        "id": "4e9911a0",
        "outputId": "bb8c7a8c-e9f6-419e-d018-80f68d39aff2"
      },
      "outputs": [
        {
          "data": {
            "text/plain": [
              "(29384, 3)"
            ]
          },
          "execution_count": 19,
          "metadata": {},
          "output_type": "execute_result"
        }
      ],
      "source": [
        "path = pd.read_csv('Movie Path Link.csv')\n",
        "path = path.drop_duplicates()\n",
        "path.shape"
      ]
    },
    {
      "cell_type": "code",
      "execution_count": null,
      "id": "c5c3c01b",
      "metadata": {
        "id": "c5c3c01b",
        "outputId": "5d1de894-d853-493c-da24-d1575e7b031a"
      },
      "outputs": [
        {
          "data": {
            "text/plain": [
              "(24402, 12)"
            ]
          },
          "execution_count": 15,
          "metadata": {},
          "output_type": "execute_result"
        }
      ],
      "source": [
        "df = pd.merge(result, path, on='movie title')\n",
        "df.shape"
      ]
    },
    {
      "cell_type": "code",
      "execution_count": null,
      "id": "51e292d1",
      "metadata": {
        "id": "51e292d1"
      },
      "outputs": [],
      "source": [
        "df.to_csv('Final Dataset.csv', index=False)"
      ]
    },
    {
      "cell_type": "code",
      "execution_count": null,
      "id": "51c8eae1",
      "metadata": {
        "id": "51c8eae1"
      },
      "outputs": [],
      "source": []
    }
  ],
  "metadata": {
    "kernelspec": {
      "display_name": "Python 3 (ipykernel)",
      "language": "python",
      "name": "python3"
    },
    "language_info": {
      "codemirror_mode": {
        "name": "ipython",
        "version": 3
      },
      "file_extension": ".py",
      "mimetype": "text/x-python",
      "name": "python",
      "nbconvert_exporter": "python",
      "pygments_lexer": "ipython3",
      "version": "3.9.12"
    },
    "colab": {
      "provenance": []
    }
  },
  "nbformat": 4,
  "nbformat_minor": 5
}