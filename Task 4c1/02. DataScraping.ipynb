{
 "cells": [
  {
   "cell_type": "code",
   "execution_count": null,
   "id": "b1a900c6",
   "metadata": {
    "id": "b1a900c6"
   },
   "outputs": [],
   "source": [
    "import pandas as pd\n",
    "import requests\n",
    "import numpy as np\n",
    "from bs4 import BeautifulSoup\n",
    "from tqdm import tqdm"
   ]
  },
  {
   "cell_type": "code",
   "execution_count": null,
   "id": "WpGj-xfzWAaq",
   "metadata": {
    "colab": {
     "base_uri": "https://localhost:8080/"
    },
    "id": "WpGj-xfzWAaq",
    "outputId": "e672448f-1a41-479d-fd4b-d1dce775422d"
   },
   "outputs": [
    {
     "name": "stdout",
     "output_type": "stream",
     "text": [
      "Drive already mounted at /content/drive; to attempt to forcibly remount, call drive.mount(\"/content/drive\", force_remount=True).\n"
     ]
    }
   ],
   "source": [
    "from google.colab import drive\n",
    "drive.mount('/content/drive')"
   ]
  },
  {
   "cell_type": "code",
   "execution_count": null,
   "id": "aDouDG5YV6N7",
   "metadata": {
    "id": "aDouDG5YV6N7"
   },
   "outputs": [],
   "source": [
    "df = pd.read_csv('/content/drive/MyDrive/Courses/CSE438/Project/Movie Path Link.csv')"
   ]
  },
  {
   "cell_type": "code",
   "execution_count": null,
   "id": "GGf5GZl7WXWj",
   "metadata": {
    "colab": {
     "base_uri": "https://localhost:8080/"
    },
    "id": "GGf5GZl7WXWj",
    "outputId": "9070e17a-b4a4-4fb9-a89d-78eea6b24b9f"
   },
   "outputs": [
    {
     "data": {
      "text/plain": [
       "(15, 3)"
      ]
     },
     "execution_count": 62,
     "metadata": {},
     "output_type": "execute_result"
    }
   ],
   "source": [
    "df.shape"
   ]
  },
  {
   "cell_type": "code",
   "execution_count": null,
   "id": "DWF3Wl9cWbRR",
   "metadata": {
    "colab": {
     "base_uri": "https://localhost:8080/",
     "height": 206
    },
    "id": "DWF3Wl9cWbRR",
    "outputId": "ba8f6aad-19ee-43ca-c16b-cadb19c58cab"
   },
   "outputs": [
    {
     "data": {
      "text/html": [
       "\n",
       "  <div id=\"df-ce4382b8-487d-491f-aadf-5b7dfadae81c\">\n",
       "    <div class=\"colab-df-container\">\n",
       "      <div>\n",
       "<style scoped>\n",
       "    .dataframe tbody tr th:only-of-type {\n",
       "        vertical-align: middle;\n",
       "    }\n",
       "\n",
       "    .dataframe tbody tr th {\n",
       "        vertical-align: top;\n",
       "    }\n",
       "\n",
       "    .dataframe thead th {\n",
       "        text-align: right;\n",
       "    }\n",
       "</style>\n",
       "<table border=\"1\" class=\"dataframe\">\n",
       "  <thead>\n",
       "    <tr style=\"text-align: right;\">\n",
       "      <th></th>\n",
       "      <th>movie title</th>\n",
       "      <th>year</th>\n",
       "      <th>path</th>\n",
       "    </tr>\n",
       "  </thead>\n",
       "  <tbody>\n",
       "    <tr>\n",
       "      <th>21035</th>\n",
       "      <td>Vampire's Kiss</td>\n",
       "      <td>(1988)</td>\n",
       "      <td>/title/tt0098577/</td>\n",
       "    </tr>\n",
       "    <tr>\n",
       "      <th>21036</th>\n",
       "      <td>The Gang That Couldn't Shoot Straight</td>\n",
       "      <td>(1971)</td>\n",
       "      <td>/title/tt0067124/</td>\n",
       "    </tr>\n",
       "    <tr>\n",
       "      <th>21037</th>\n",
       "      <td>The Producers</td>\n",
       "      <td>(2005)</td>\n",
       "      <td>/title/tt0395251/</td>\n",
       "    </tr>\n",
       "    <tr>\n",
       "      <th>21038</th>\n",
       "      <td>Screwed</td>\n",
       "      <td>(2000)</td>\n",
       "      <td>/title/tt0156323/</td>\n",
       "    </tr>\n",
       "    <tr>\n",
       "      <th>21039</th>\n",
       "      <td>Home Sweet Home Alone</td>\n",
       "      <td>(2021)</td>\n",
       "      <td>/title/tt11012066/</td>\n",
       "    </tr>\n",
       "  </tbody>\n",
       "</table>\n",
       "</div>\n",
       "      <button class=\"colab-df-convert\" onclick=\"convertToInteractive('df-ce4382b8-487d-491f-aadf-5b7dfadae81c')\"\n",
       "              title=\"Convert this dataframe to an interactive table.\"\n",
       "              style=\"display:none;\">\n",
       "        \n",
       "  <svg xmlns=\"http://www.w3.org/2000/svg\" height=\"24px\"viewBox=\"0 0 24 24\"\n",
       "       width=\"24px\">\n",
       "    <path d=\"M0 0h24v24H0V0z\" fill=\"none\"/>\n",
       "    <path d=\"M18.56 5.44l.94 2.06.94-2.06 2.06-.94-2.06-.94-.94-2.06-.94 2.06-2.06.94zm-11 1L8.5 8.5l.94-2.06 2.06-.94-2.06-.94L8.5 2.5l-.94 2.06-2.06.94zm10 10l.94 2.06.94-2.06 2.06-.94-2.06-.94-.94-2.06-.94 2.06-2.06.94z\"/><path d=\"M17.41 7.96l-1.37-1.37c-.4-.4-.92-.59-1.43-.59-.52 0-1.04.2-1.43.59L10.3 9.45l-7.72 7.72c-.78.78-.78 2.05 0 2.83L4 21.41c.39.39.9.59 1.41.59.51 0 1.02-.2 1.41-.59l7.78-7.78 2.81-2.81c.8-.78.8-2.07 0-2.86zM5.41 20L4 18.59l7.72-7.72 1.47 1.35L5.41 20z\"/>\n",
       "  </svg>\n",
       "      </button>\n",
       "      \n",
       "  <style>\n",
       "    .colab-df-container {\n",
       "      display:flex;\n",
       "      flex-wrap:wrap;\n",
       "      gap: 12px;\n",
       "    }\n",
       "\n",
       "    .colab-df-convert {\n",
       "      background-color: #E8F0FE;\n",
       "      border: none;\n",
       "      border-radius: 50%;\n",
       "      cursor: pointer;\n",
       "      display: none;\n",
       "      fill: #1967D2;\n",
       "      height: 32px;\n",
       "      padding: 0 0 0 0;\n",
       "      width: 32px;\n",
       "    }\n",
       "\n",
       "    .colab-df-convert:hover {\n",
       "      background-color: #E2EBFA;\n",
       "      box-shadow: 0px 1px 2px rgba(60, 64, 67, 0.3), 0px 1px 3px 1px rgba(60, 64, 67, 0.15);\n",
       "      fill: #174EA6;\n",
       "    }\n",
       "\n",
       "    [theme=dark] .colab-df-convert {\n",
       "      background-color: #3B4455;\n",
       "      fill: #D2E3FC;\n",
       "    }\n",
       "\n",
       "    [theme=dark] .colab-df-convert:hover {\n",
       "      background-color: #434B5C;\n",
       "      box-shadow: 0px 1px 3px 1px rgba(0, 0, 0, 0.15);\n",
       "      filter: drop-shadow(0px 1px 2px rgba(0, 0, 0, 0.3));\n",
       "      fill: #FFFFFF;\n",
       "    }\n",
       "  </style>\n",
       "\n",
       "      <script>\n",
       "        const buttonEl =\n",
       "          document.querySelector('#df-ce4382b8-487d-491f-aadf-5b7dfadae81c button.colab-df-convert');\n",
       "        buttonEl.style.display =\n",
       "          google.colab.kernel.accessAllowed ? 'block' : 'none';\n",
       "\n",
       "        async function convertToInteractive(key) {\n",
       "          const element = document.querySelector('#df-ce4382b8-487d-491f-aadf-5b7dfadae81c');\n",
       "          const dataTable =\n",
       "            await google.colab.kernel.invokeFunction('convertToInteractive',\n",
       "                                                     [key], {});\n",
       "          if (!dataTable) return;\n",
       "\n",
       "          const docLinkHtml = 'Like what you see? Visit the ' +\n",
       "            '<a target=\"_blank\" href=https://colab.research.google.com/notebooks/data_table.ipynb>data table notebook</a>'\n",
       "            + ' to learn more about interactive tables.';\n",
       "          element.innerHTML = '';\n",
       "          dataTable['output_type'] = 'display_data';\n",
       "          await google.colab.output.renderOutput(dataTable, element);\n",
       "          const docLink = document.createElement('div');\n",
       "          docLink.innerHTML = docLinkHtml;\n",
       "          element.appendChild(docLink);\n",
       "        }\n",
       "      </script>\n",
       "    </div>\n",
       "  </div>\n",
       "  "
      ],
      "text/plain": [
       "                                 movie title    year                path\n",
       "21035                         Vampire's Kiss  (1988)   /title/tt0098577/\n",
       "21036  The Gang That Couldn't Shoot Straight  (1971)   /title/tt0067124/\n",
       "21037                          The Producers  (2005)   /title/tt0395251/\n",
       "21038                                Screwed  (2000)   /title/tt0156323/\n",
       "21039                  Home Sweet Home Alone  (2021)  /title/tt11012066/"
      ]
     },
     "execution_count": 63,
     "metadata": {},
     "output_type": "execute_result"
    }
   ],
   "source": [
    "df.head()"
   ]
  },
  {
   "cell_type": "code",
   "execution_count": null,
   "id": "CppL3viYWbUS",
   "metadata": {
    "id": "CppL3viYWbUS"
   },
   "outputs": [],
   "source": [
    "paths = df['path'].to_numpy()"
   ]
  },
  {
   "cell_type": "code",
   "execution_count": null,
   "id": "G5jZl1VYXEDk",
   "metadata": {
    "colab": {
     "base_uri": "https://localhost:8080/"
    },
    "id": "G5jZl1VYXEDk",
    "outputId": "376e5754-a9a8-4acc-9a42-06c633983d64"
   },
   "outputs": [
    {
     "name": "stdout",
     "output_type": "stream",
     "text": [
      "<class 'numpy.ndarray'>\n"
     ]
    }
   ],
   "source": [
    "print(type(paths))"
   ]
  },
  {
   "cell_type": "code",
   "execution_count": null,
   "id": "b509ef85",
   "metadata": {
    "id": "b509ef85"
   },
   "outputs": [],
   "source": [
    "movie_title = []\n",
    "run_time = []\n",
    "rating = []\n",
    "total_user_rating = []\n",
    "genres = []\n",
    "overview = []\n",
    "plot_keyword = []\n",
    "director = []\n",
    "writer = []\n",
    "casts = []"
   ]
  },
  {
   "cell_type": "code",
   "execution_count": null,
   "id": "4c0a60a9",
   "metadata": {
    "colab": {
     "base_uri": "https://localhost:8080/"
    },
    "id": "4c0a60a9",
    "outputId": "9f5a1b60-7a5a-4e2f-bfbe-8ca80fb3ff1e"
   },
   "outputs": [
    {
     "name": "stderr",
     "output_type": "stream",
     "text": [
      "100%|██████████| 15/15 [00:27<00:00,  1.86s/it]\n"
     ]
    }
   ],
   "source": [
    "for path in tqdm(paths):\n",
    "  \n",
    "  url = f'https://www.imdb.com{path}?ref_=adv_li_tt'\n",
    "  # print(url)\n",
    "  webpage = requests.get(url).text\n",
    "  soup=BeautifulSoup(webpage,'lxml')\n",
    "\n",
    "  #===================================================================================================================================\n",
    "\n",
    "\n",
    "\n",
    "  #===================================================================================================================================\n",
    "\n",
    "  count = 0\n",
    "  temp_cast = []\n",
    "  a = soup.find_all('a', href=True, class_=\"ipc-metadata-list-item__list-content-item ipc-metadata-list-item__list-content-item--link\")[:7]\n",
    "  while count < len(a):\n",
    "      if count == 0:\n",
    "          director.append(a[count].text)\n",
    "      elif count == 1:\n",
    "          writer.append(a[count].text)\n",
    "      else: \n",
    "          temp_cast.append(a[count].text)\n",
    "\n",
    "      count+=1\n",
    "  casts.append(temp_cast)\n",
    "\n",
    "  #===================================================================================================================================\n",
    "  movie_title.append(soup.find('h1',class_='sc-b73cd867-0').text)\n",
    "\n",
    "  try:\n",
    "      temp = soup.find_all('div',class_='sc-f65f65be-0')\n",
    "      value = temp[3].find('div',class_='ipc-metadata-list-item__content-container').text\n",
    "      \n",
    "  except: run_time.append('not-released')\n",
    "  else: run_time.append(value)\n",
    "\n",
    "\n",
    "  try:\n",
    "      value = soup.find('span',class_='sc-7ab21ed2-1 jGRxWM').text\n",
    "  except: rating.append('no-rating')\n",
    "  else: rating.append(value)\n",
    "\n",
    "      \n",
    "  try:\n",
    "      value = soup.find('div',class_='sc-7ab21ed2-3').text\n",
    "  except: total_user_rating.append(0)\n",
    "  else: total_user_rating.append(value)\n",
    "\n",
    "  temp = soup.find_all('li',class_=\"ipc-inline-list__item ipc-chip__text\")\n",
    "  genre = []\n",
    "  for i in temp: genre.append(i.text)\n",
    "  genres.append(genre)\n",
    "\n",
    "\n",
    "  try:\n",
    "      value = soup.find('span',class_=\"sc-16ede01-1\").text\n",
    "  except: overview.append('none')\n",
    "  else: overview.append(value)\n",
    "\n",
    "\n",
    "\n",
    "\n",
    "  #===================================================================================================================================\n",
    "\n",
    "  url2 = f'https://www.imdb.com{path}keywords?ref_=tt_stry_kw'\n",
    "  webpage2 = requests.get(url2).text\n",
    "  soup2=BeautifulSoup(webpage2,'lxml')\n",
    "\n",
    "  temp = soup2.find_all('div',class_=\"sodatext\")[:10]\n",
    "  plots = []\n",
    "  for i in temp:\n",
    "      plots.append(i.text.strip())\n",
    "  plot_keyword.append(plots)\n",
    "\n",
    "  #===================================================================================================================================\n",
    "\n",
    "\n"
   ]
  },
  {
   "cell_type": "code",
   "execution_count": null,
   "id": "90d82a99",
   "metadata": {
    "colab": {
     "base_uri": "https://localhost:8080/"
    },
    "id": "90d82a99",
    "outputId": "d2751a5b-1a32-4b75-abdf-c429c92094af"
   },
   "outputs": [
    {
     "name": "stdout",
     "output_type": "stream",
     "text": [
      "15\n",
      "15\n",
      "15\n",
      "15\n",
      "15\n",
      "15\n",
      "15\n",
      "15\n",
      "15\n",
      "15\n",
      "===================================================================================================================================\n"
     ]
    }
   ],
   "source": [
    "print(len(movie_title))\n",
    "print(len(run_time))\n",
    "print(len(rating))\n",
    "print(len(total_user_rating))\n",
    "print(len(genres))\n",
    "print(len(overview))\n",
    "print(len(plot_keyword))\n",
    "print(len(director))\n",
    "print(len(casts))\n",
    "print(len(writer))\n",
    "print(\"===================================================================================================================================\")"
   ]
  },
  {
   "cell_type": "code",
   "execution_count": null,
   "id": "3btUG9O8Ht3u",
   "metadata": {
    "colab": {
     "base_uri": "https://localhost:8080/"
    },
    "id": "3btUG9O8Ht3u",
    "outputId": "1b5c8901-ea7f-4a52-b3a0-2f7763dbb962"
   },
   "outputs": [
    {
     "data": {
      "text/plain": [
       "15"
      ]
     },
     "execution_count": 69,
     "metadata": {},
     "output_type": "execute_result"
    }
   ],
   "source": [
    "casts = casts[:3984]\n",
    "len(casts)"
   ]
  },
  {
   "cell_type": "code",
   "execution_count": null,
   "id": "mJD3dR5uaewO",
   "metadata": {
    "colab": {
     "base_uri": "https://localhost:8080/"
    },
    "id": "mJD3dR5uaewO",
    "outputId": "0e711dfc-bc24-49dd-8543-7856a23592dd"
   },
   "outputs": [
    {
     "data": {
      "text/plain": [
       "(15, 10)"
      ]
     },
     "execution_count": 70,
     "metadata": {},
     "output_type": "execute_result"
    }
   ],
   "source": [
    "df=pd.DataFrame({'movie title': movie_title,\n",
    "                 'Run Time': run_time,\n",
    "                 'Rating': rating,\n",
    "                 'User Rating' : total_user_rating,\n",
    "                 'Generes' : genres,\n",
    "                 'Overview': overview,\n",
    "                 'Plot Kyeword' : plot_keyword,\n",
    "                 'Director' : director,\n",
    "                 'Top 5 Casts' : casts,\n",
    "                 'Writer' : writer}) \n",
    "df.shape"
   ]
  },
  {
   "cell_type": "code",
   "execution_count": null,
   "id": "sH1akmPXdJAk",
   "metadata": {
    "colab": {
     "base_uri": "https://localhost:8080/",
     "height": 354
    },
    "id": "sH1akmPXdJAk",
    "outputId": "66a8dfc7-07d2-45a5-fe46-83d9d8aa1260"
   },
   "outputs": [
    {
     "data": {
      "text/html": [
       "\n",
       "  <div id=\"df-389ad568-c791-4903-8005-6844011800db\">\n",
       "    <div class=\"colab-df-container\">\n",
       "      <div>\n",
       "<style scoped>\n",
       "    .dataframe tbody tr th:only-of-type {\n",
       "        vertical-align: middle;\n",
       "    }\n",
       "\n",
       "    .dataframe tbody tr th {\n",
       "        vertical-align: top;\n",
       "    }\n",
       "\n",
       "    .dataframe thead th {\n",
       "        text-align: right;\n",
       "    }\n",
       "</style>\n",
       "<table border=\"1\" class=\"dataframe\">\n",
       "  <thead>\n",
       "    <tr style=\"text-align: right;\">\n",
       "      <th></th>\n",
       "      <th>movie title</th>\n",
       "      <th>Run Time</th>\n",
       "      <th>Rating</th>\n",
       "      <th>User Rating</th>\n",
       "      <th>Generes</th>\n",
       "      <th>Overview</th>\n",
       "      <th>Plot Kyeword</th>\n",
       "      <th>Director</th>\n",
       "      <th>Top 5 Casts</th>\n",
       "      <th>Writer</th>\n",
       "    </tr>\n",
       "  </thead>\n",
       "  <tbody>\n",
       "    <tr>\n",
       "      <th>0</th>\n",
       "      <td>Vampire's Kiss</td>\n",
       "      <td>$2,000,000 (estimated)</td>\n",
       "      <td>6.0</td>\n",
       "      <td>17K</td>\n",
       "      <td>[Comedy, Crime, Fantasy]</td>\n",
       "      <td>After an encounter with a neck-biter, a publis...</td>\n",
       "      <td>[psychiatrist, weird behavior, vampire, cockro...</td>\n",
       "      <td>Robert Bierman</td>\n",
       "      <td>[Nicolas Cage, Maria Conchita Alonso, Jennifer...</td>\n",
       "      <td>Joseph Minion</td>\n",
       "    </tr>\n",
       "    <tr>\n",
       "      <th>1</th>\n",
       "      <td>The Gang That Couldn't Shoot Straight</td>\n",
       "      <td>not-released</td>\n",
       "      <td>4.9</td>\n",
       "      <td>1.5K</td>\n",
       "      <td>[Comedy, Crime]</td>\n",
       "      <td>This is the funny story about two warring Mafi...</td>\n",
       "      <td>[animated opening credits, gang, police, lion,...</td>\n",
       "      <td>James Goldstone</td>\n",
       "      <td>[Waldo Salt, Jerry Orbach, Leigh Taylor-Young,...</td>\n",
       "      <td>Jimmy Breslin</td>\n",
       "    </tr>\n",
       "    <tr>\n",
       "      <th>2</th>\n",
       "      <td>The Producers</td>\n",
       "      <td>$45,000,000 (estimated)</td>\n",
       "      <td>6.3</td>\n",
       "      <td>43K</td>\n",
       "      <td>[Comedy, Crime, Musical]</td>\n",
       "      <td>After putting together another Broadway flop, ...</td>\n",
       "      <td>[scheme, opening night, accountant, swedish, n...</td>\n",
       "      <td>Susan Stroman</td>\n",
       "      <td>[Thomas Meehan, Nathan Lane, Matthew Broderick...</td>\n",
       "      <td>Mel Brooks</td>\n",
       "    </tr>\n",
       "    <tr>\n",
       "      <th>3</th>\n",
       "      <td>Screwed</td>\n",
       "      <td>1 hour 21 minutes</td>\n",
       "      <td>5.6</td>\n",
       "      <td>9.1K</td>\n",
       "      <td>[Comedy, Crime]</td>\n",
       "      <td>A chauffeur kidnaps his rich boss's dog to hol...</td>\n",
       "      <td>[slapstick comedy, chauffeur, dog, ransom, car...</td>\n",
       "      <td>Scott Alexander</td>\n",
       "      <td>[Scott Alexander, Larry Karaszewski, Norm MacD...</td>\n",
       "      <td>Larry Karaszewski</td>\n",
       "    </tr>\n",
       "    <tr>\n",
       "      <th>4</th>\n",
       "      <td>Home Sweet Home Alone</td>\n",
       "      <td>not-released</td>\n",
       "      <td>3.6</td>\n",
       "      <td>16K</td>\n",
       "      <td>[Comedy, Crime, Family]</td>\n",
       "      <td>A married couple tries to steal back a valuabl...</td>\n",
       "      <td>[christmas, slapstick comedy, toy gun, pool ba...</td>\n",
       "      <td>Dan Mazer</td>\n",
       "      <td>[Streeter Seidell, John Hughes, Ellie Kemper, ...</td>\n",
       "      <td>Mikey Day</td>\n",
       "    </tr>\n",
       "  </tbody>\n",
       "</table>\n",
       "</div>\n",
       "      <button class=\"colab-df-convert\" onclick=\"convertToInteractive('df-389ad568-c791-4903-8005-6844011800db')\"\n",
       "              title=\"Convert this dataframe to an interactive table.\"\n",
       "              style=\"display:none;\">\n",
       "        \n",
       "  <svg xmlns=\"http://www.w3.org/2000/svg\" height=\"24px\"viewBox=\"0 0 24 24\"\n",
       "       width=\"24px\">\n",
       "    <path d=\"M0 0h24v24H0V0z\" fill=\"none\"/>\n",
       "    <path d=\"M18.56 5.44l.94 2.06.94-2.06 2.06-.94-2.06-.94-.94-2.06-.94 2.06-2.06.94zm-11 1L8.5 8.5l.94-2.06 2.06-.94-2.06-.94L8.5 2.5l-.94 2.06-2.06.94zm10 10l.94 2.06.94-2.06 2.06-.94-2.06-.94-.94-2.06-.94 2.06-2.06.94z\"/><path d=\"M17.41 7.96l-1.37-1.37c-.4-.4-.92-.59-1.43-.59-.52 0-1.04.2-1.43.59L10.3 9.45l-7.72 7.72c-.78.78-.78 2.05 0 2.83L4 21.41c.39.39.9.59 1.41.59.51 0 1.02-.2 1.41-.59l7.78-7.78 2.81-2.81c.8-.78.8-2.07 0-2.86zM5.41 20L4 18.59l7.72-7.72 1.47 1.35L5.41 20z\"/>\n",
       "  </svg>\n",
       "      </button>\n",
       "      \n",
       "  <style>\n",
       "    .colab-df-container {\n",
       "      display:flex;\n",
       "      flex-wrap:wrap;\n",
       "      gap: 12px;\n",
       "    }\n",
       "\n",
       "    .colab-df-convert {\n",
       "      background-color: #E8F0FE;\n",
       "      border: none;\n",
       "      border-radius: 50%;\n",
       "      cursor: pointer;\n",
       "      display: none;\n",
       "      fill: #1967D2;\n",
       "      height: 32px;\n",
       "      padding: 0 0 0 0;\n",
       "      width: 32px;\n",
       "    }\n",
       "\n",
       "    .colab-df-convert:hover {\n",
       "      background-color: #E2EBFA;\n",
       "      box-shadow: 0px 1px 2px rgba(60, 64, 67, 0.3), 0px 1px 3px 1px rgba(60, 64, 67, 0.15);\n",
       "      fill: #174EA6;\n",
       "    }\n",
       "\n",
       "    [theme=dark] .colab-df-convert {\n",
       "      background-color: #3B4455;\n",
       "      fill: #D2E3FC;\n",
       "    }\n",
       "\n",
       "    [theme=dark] .colab-df-convert:hover {\n",
       "      background-color: #434B5C;\n",
       "      box-shadow: 0px 1px 3px 1px rgba(0, 0, 0, 0.15);\n",
       "      filter: drop-shadow(0px 1px 2px rgba(0, 0, 0, 0.3));\n",
       "      fill: #FFFFFF;\n",
       "    }\n",
       "  </style>\n",
       "\n",
       "      <script>\n",
       "        const buttonEl =\n",
       "          document.querySelector('#df-389ad568-c791-4903-8005-6844011800db button.colab-df-convert');\n",
       "        buttonEl.style.display =\n",
       "          google.colab.kernel.accessAllowed ? 'block' : 'none';\n",
       "\n",
       "        async function convertToInteractive(key) {\n",
       "          const element = document.querySelector('#df-389ad568-c791-4903-8005-6844011800db');\n",
       "          const dataTable =\n",
       "            await google.colab.kernel.invokeFunction('convertToInteractive',\n",
       "                                                     [key], {});\n",
       "          if (!dataTable) return;\n",
       "\n",
       "          const docLinkHtml = 'Like what you see? Visit the ' +\n",
       "            '<a target=\"_blank\" href=https://colab.research.google.com/notebooks/data_table.ipynb>data table notebook</a>'\n",
       "            + ' to learn more about interactive tables.';\n",
       "          element.innerHTML = '';\n",
       "          dataTable['output_type'] = 'display_data';\n",
       "          await google.colab.output.renderOutput(dataTable, element);\n",
       "          const docLink = document.createElement('div');\n",
       "          docLink.innerHTML = docLinkHtml;\n",
       "          element.appendChild(docLink);\n",
       "        }\n",
       "      </script>\n",
       "    </div>\n",
       "  </div>\n",
       "  "
      ],
      "text/plain": [
       "                             movie title                 Run Time Rating  \\\n",
       "0                         Vampire's Kiss   $2,000,000 (estimated)    6.0   \n",
       "1  The Gang That Couldn't Shoot Straight             not-released    4.9   \n",
       "2                          The Producers  $45,000,000 (estimated)    6.3   \n",
       "3                                Screwed        1 hour 21 minutes    5.6   \n",
       "4                  Home Sweet Home Alone             not-released    3.6   \n",
       "\n",
       "  User Rating                   Generes  \\\n",
       "0         17K  [Comedy, Crime, Fantasy]   \n",
       "1        1.5K           [Comedy, Crime]   \n",
       "2         43K  [Comedy, Crime, Musical]   \n",
       "3        9.1K           [Comedy, Crime]   \n",
       "4         16K   [Comedy, Crime, Family]   \n",
       "\n",
       "                                            Overview  \\\n",
       "0  After an encounter with a neck-biter, a publis...   \n",
       "1  This is the funny story about two warring Mafi...   \n",
       "2  After putting together another Broadway flop, ...   \n",
       "3  A chauffeur kidnaps his rich boss's dog to hol...   \n",
       "4  A married couple tries to steal back a valuabl...   \n",
       "\n",
       "                                        Plot Kyeword         Director  \\\n",
       "0  [psychiatrist, weird behavior, vampire, cockro...   Robert Bierman   \n",
       "1  [animated opening credits, gang, police, lion,...  James Goldstone   \n",
       "2  [scheme, opening night, accountant, swedish, n...    Susan Stroman   \n",
       "3  [slapstick comedy, chauffeur, dog, ransom, car...  Scott Alexander   \n",
       "4  [christmas, slapstick comedy, toy gun, pool ba...        Dan Mazer   \n",
       "\n",
       "                                         Top 5 Casts             Writer  \n",
       "0  [Nicolas Cage, Maria Conchita Alonso, Jennifer...      Joseph Minion  \n",
       "1  [Waldo Salt, Jerry Orbach, Leigh Taylor-Young,...      Jimmy Breslin  \n",
       "2  [Thomas Meehan, Nathan Lane, Matthew Broderick...         Mel Brooks  \n",
       "3  [Scott Alexander, Larry Karaszewski, Norm MacD...  Larry Karaszewski  \n",
       "4  [Streeter Seidell, John Hughes, Ellie Kemper, ...          Mikey Day  "
      ]
     },
     "execution_count": 71,
     "metadata": {},
     "output_type": "execute_result"
    }
   ],
   "source": [
    "df.head()"
   ]
  },
  {
   "cell_type": "code",
   "execution_count": null,
   "id": "AT0OBwnJbWRI",
   "metadata": {
    "id": "AT0OBwnJbWRI"
   },
   "outputs": [],
   "source": [
    "df.to_csv('IMDB 25k Movie Dataset.csv', index=False)"
   ]
  },
  {
   "cell_type": "code",
   "execution_count": null,
   "id": "XuzWby83IHLg",
   "metadata": {
    "id": "XuzWby83IHLg"
   },
   "outputs": [],
   "source": []
  }
 ],
 "metadata": {
  "colab": {
   "provenance": []
  },
  "kernelspec": {
   "display_name": "mlProjects",
   "language": "python",
   "name": "mlprojects"
  },
  "language_info": {
   "codemirror_mode": {
    "name": "ipython",
    "version": 3
   },
   "file_extension": ".py",
   "mimetype": "text/x-python",
   "name": "python",
   "nbconvert_exporter": "python",
   "pygments_lexer": "ipython3",
   "version": "3.9.11"
  }
 },
 "nbformat": 4,
 "nbformat_minor": 5
}
