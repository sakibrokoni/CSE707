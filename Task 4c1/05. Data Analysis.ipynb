{
 "cells": [
  {
   "cell_type": "code",
   "execution_count": 33,
   "metadata": {},
   "outputs": [],
   "source": [
    "import pandas as pd\n",
    "import matplotlib.pyplot as plt\n",
    "import seaborn as sns\n",
    "import ast\n",
    "import os"
   ]
  },
  {
   "cell_type": "code",
   "execution_count": 34,
   "metadata": {},
   "outputs": [],
   "source": [
    "# Define the analysis directory globally\n",
    "analysis_dir = 'analysis_plots'\n",
    "os.makedirs(analysis_dir, exist_ok=True)"
   ]
  },
  {
   "cell_type": "code",
   "execution_count": 35,
   "metadata": {},
   "outputs": [],
   "source": [
    "# Load the data\n",
    "df = pd.read_csv('processed_movies.csv')"
   ]
  },
  {
   "cell_type": "code",
   "execution_count": 36,
   "metadata": {},
   "outputs": [
    {
     "name": "stdout",
     "output_type": "stream",
     "text": [
      "<class 'pandas.core.frame.DataFrame'>\n",
      "RangeIndex: 24402 entries, 0 to 24401\n",
      "Data columns (total 11 columns):\n",
      " #   Column        Non-Null Count  Dtype \n",
      "---  ------        --------------  ----- \n",
      " 0   movie title   24402 non-null  object\n",
      " 1   User Rating   24402 non-null  object\n",
      " 2   Generes       24402 non-null  object\n",
      " 3   Overview      24402 non-null  object\n",
      " 4   Plot Kyeword  24402 non-null  object\n",
      " 5   Director      24402 non-null  object\n",
      " 6   Top 5 Casts   24402 non-null  object\n",
      " 7   Writer        24402 non-null  object\n",
      " 8   year          24402 non-null  object\n",
      " 9   path          24402 non-null  object\n",
      " 10  Rating_bin    24402 non-null  object\n",
      "dtypes: object(11)\n",
      "memory usage: 2.0+ MB\n",
      "None\n"
     ]
    }
   ],
   "source": [
    "# Display basic information about the dataset\n",
    "print(df.info())"
   ]
  },
  {
   "cell_type": "code",
   "execution_count": 37,
   "metadata": {},
   "outputs": [
    {
     "data": {
      "text/html": [
       "<div>\n",
       "<style scoped>\n",
       "    .dataframe tbody tr th:only-of-type {\n",
       "        vertical-align: middle;\n",
       "    }\n",
       "\n",
       "    .dataframe tbody tr th {\n",
       "        vertical-align: top;\n",
       "    }\n",
       "\n",
       "    .dataframe thead th {\n",
       "        text-align: right;\n",
       "    }\n",
       "</style>\n",
       "<table border=\"1\" class=\"dataframe\">\n",
       "  <thead>\n",
       "    <tr style=\"text-align: right;\">\n",
       "      <th></th>\n",
       "      <th>movie title</th>\n",
       "      <th>User Rating</th>\n",
       "      <th>Generes</th>\n",
       "      <th>Overview</th>\n",
       "      <th>Plot Kyeword</th>\n",
       "      <th>Director</th>\n",
       "      <th>Top 5 Casts</th>\n",
       "      <th>Writer</th>\n",
       "      <th>year</th>\n",
       "      <th>path</th>\n",
       "      <th>Rating_bin</th>\n",
       "    </tr>\n",
       "  </thead>\n",
       "  <tbody>\n",
       "    <tr>\n",
       "      <th>0</th>\n",
       "      <td>Top Gun: Maverick</td>\n",
       "      <td>['86quantilevalue']</td>\n",
       "      <td>['Action', 'Drama']</td>\n",
       "      <td>['After', 'more', 'than', 'thirty', 'years', '...</td>\n",
       "      <td>['fighterjet', 'sequel', 'u.s.navy', 'fightera...</td>\n",
       "      <td>['JosephKosinski']</td>\n",
       "      <td>['JackEppsJr.', 'PeterCraig', 'TomCruise', 'Je...</td>\n",
       "      <td>['JimCash']</td>\n",
       "      <td>['2022']</td>\n",
       "      <td>/title/tt1745960/</td>\n",
       "      <td>['8.3333', '8.6667']</td>\n",
       "    </tr>\n",
       "    <tr>\n",
       "      <th>1</th>\n",
       "      <td>Jurassic World Dominion</td>\n",
       "      <td>['78quantilevalue']</td>\n",
       "      <td>['Action', 'Adventure', 'Sci-Fi']</td>\n",
       "      <td>['Four', 'years', 'after', 'the', 'destruction...</td>\n",
       "      <td>['dinosaur', 'jurassicpark', 'tyrannosaurusrex...</td>\n",
       "      <td>['ColinTrevorrow']</td>\n",
       "      <td>['ColinTrevorrow', 'DerekConnolly', 'ChrisPrat...</td>\n",
       "      <td>['EmilyCarmichael']</td>\n",
       "      <td>['2022']</td>\n",
       "      <td>/title/tt8041270/</td>\n",
       "      <td>['5.6667', '6.0000']</td>\n",
       "    </tr>\n",
       "    <tr>\n",
       "      <th>2</th>\n",
       "      <td>Top Gun</td>\n",
       "      <td>['89quantilevalue']</td>\n",
       "      <td>['Action', 'Drama']</td>\n",
       "      <td>['As', 'students', 'at', 'the', 'United', 'Sta...</td>\n",
       "      <td>['pilot', 'malecamaraderie', 'u.s.navy', 'grum...</td>\n",
       "      <td>['TonyScott']</td>\n",
       "      <td>['JackEppsJr.', 'EhudYonay', 'TomCruise', 'Tim...</td>\n",
       "      <td>['JimCash']</td>\n",
       "      <td>['1986']</td>\n",
       "      <td>/title/tt0092099/</td>\n",
       "      <td>['6.6667', '7.0000']</td>\n",
       "    </tr>\n",
       "    <tr>\n",
       "      <th>3</th>\n",
       "      <td>Lightyear</td>\n",
       "      <td>['73quantilevalue']</td>\n",
       "      <td>['Animation', 'Action', 'Adventure']</td>\n",
       "      <td>['While', 'spending', 'years', 'attempting', '...</td>\n",
       "      <td>['galaxy', 'spaceship', 'robot', 'rocket', 'sp...</td>\n",
       "      <td>['AngusMacLane']</td>\n",
       "      <td>['JasonHeadley', 'MatthewAldrich', 'ChrisEvans...</td>\n",
       "      <td>['AngusMacLane']</td>\n",
       "      <td>['2022']</td>\n",
       "      <td>/title/tt10298810/</td>\n",
       "      <td>['5.0000', '5.3333']</td>\n",
       "    </tr>\n",
       "    <tr>\n",
       "      <th>4</th>\n",
       "      <td>Spiderhead</td>\n",
       "      <td>['69quantilevalue']</td>\n",
       "      <td>['Action', 'Crime', 'Drama']</td>\n",
       "      <td>['In', 'the', 'near', 'future,', 'convicts', '...</td>\n",
       "      <td>['discover', 'medical', 'test', 'reality', 'fi...</td>\n",
       "      <td>['JosephKosinski']</td>\n",
       "      <td>['RhettReese', 'PaulWernick', 'ChrisHemsworth'...</td>\n",
       "      <td>['GeorgeSaunders']</td>\n",
       "      <td>['2022']</td>\n",
       "      <td>/title/tt9783600/</td>\n",
       "      <td>['5.3333', '5.6667']</td>\n",
       "    </tr>\n",
       "  </tbody>\n",
       "</table>\n",
       "</div>"
      ],
      "text/plain": [
       "               movie title          User Rating  \\\n",
       "0        Top Gun: Maverick  ['86quantilevalue']   \n",
       "1  Jurassic World Dominion  ['78quantilevalue']   \n",
       "2                  Top Gun  ['89quantilevalue']   \n",
       "3                Lightyear  ['73quantilevalue']   \n",
       "4               Spiderhead  ['69quantilevalue']   \n",
       "\n",
       "                                Generes  \\\n",
       "0                   ['Action', 'Drama']   \n",
       "1     ['Action', 'Adventure', 'Sci-Fi']   \n",
       "2                   ['Action', 'Drama']   \n",
       "3  ['Animation', 'Action', 'Adventure']   \n",
       "4          ['Action', 'Crime', 'Drama']   \n",
       "\n",
       "                                            Overview  \\\n",
       "0  ['After', 'more', 'than', 'thirty', 'years', '...   \n",
       "1  ['Four', 'years', 'after', 'the', 'destruction...   \n",
       "2  ['As', 'students', 'at', 'the', 'United', 'Sta...   \n",
       "3  ['While', 'spending', 'years', 'attempting', '...   \n",
       "4  ['In', 'the', 'near', 'future,', 'convicts', '...   \n",
       "\n",
       "                                        Plot Kyeword            Director  \\\n",
       "0  ['fighterjet', 'sequel', 'u.s.navy', 'fightera...  ['JosephKosinski']   \n",
       "1  ['dinosaur', 'jurassicpark', 'tyrannosaurusrex...  ['ColinTrevorrow']   \n",
       "2  ['pilot', 'malecamaraderie', 'u.s.navy', 'grum...       ['TonyScott']   \n",
       "3  ['galaxy', 'spaceship', 'robot', 'rocket', 'sp...    ['AngusMacLane']   \n",
       "4  ['discover', 'medical', 'test', 'reality', 'fi...  ['JosephKosinski']   \n",
       "\n",
       "                                         Top 5 Casts               Writer  \\\n",
       "0  ['JackEppsJr.', 'PeterCraig', 'TomCruise', 'Je...          ['JimCash']   \n",
       "1  ['ColinTrevorrow', 'DerekConnolly', 'ChrisPrat...  ['EmilyCarmichael']   \n",
       "2  ['JackEppsJr.', 'EhudYonay', 'TomCruise', 'Tim...          ['JimCash']   \n",
       "3  ['JasonHeadley', 'MatthewAldrich', 'ChrisEvans...     ['AngusMacLane']   \n",
       "4  ['RhettReese', 'PaulWernick', 'ChrisHemsworth'...   ['GeorgeSaunders']   \n",
       "\n",
       "       year                path            Rating_bin  \n",
       "0  ['2022']   /title/tt1745960/  ['8.3333', '8.6667']  \n",
       "1  ['2022']   /title/tt8041270/  ['5.6667', '6.0000']  \n",
       "2  ['1986']   /title/tt0092099/  ['6.6667', '7.0000']  \n",
       "3  ['2022']  /title/tt10298810/  ['5.0000', '5.3333']  \n",
       "4  ['2022']   /title/tt9783600/  ['5.3333', '5.6667']  "
      ]
     },
     "execution_count": 37,
     "metadata": {},
     "output_type": "execute_result"
    }
   ],
   "source": [
    "# Display the first few rows\n",
    "df.head()"
   ]
  },
  {
   "cell_type": "code",
   "execution_count": 38,
   "metadata": {},
   "outputs": [],
   "source": [
    "# Clean and preprocess the data\n",
    "def parse_list(x):\n",
    "    try:\n",
    "        return ast.literal_eval(x)\n",
    "    except:\n",
    "        return []\n",
    "\n",
    "def parse_user_rating(x):\n",
    "    try:\n",
    "        rating = ast.literal_eval(x)[0]\n",
    "        return int(rating.replace('quantilevalue', ''))\n",
    "    except:\n",
    "        return None"
   ]
  },
  {
   "cell_type": "code",
   "execution_count": 39,
   "metadata": {},
   "outputs": [],
   "source": [
    "df['Generes'] = df['Generes'].apply(parse_list)\n",
    "df['Overview'] = df['Overview'].apply(parse_list)\n",
    "df['Plot Kyeword'] = df['Plot Kyeword'].apply(parse_list)\n",
    "df['Top 5 Casts'] = df['Top 5 Casts'].apply(parse_list)\n",
    "df['User Rating'] = df['User Rating'].apply(parse_user_rating)\n",
    "df['year'] = df['year'].apply(lambda x: int(parse_list(x)[0]) if parse_list(x) else None)\n"
   ]
  },
  {
   "cell_type": "code",
   "execution_count": 40,
   "metadata": {},
   "outputs": [],
   "source": [
    "# Remove rows with None values\n",
    "df = df.dropna()"
   ]
  },
  {
   "cell_type": "code",
   "execution_count": 41,
   "metadata": {},
   "outputs": [],
   "source": [
    "# Analyze genre distribution\n",
    "genres = [genre for genres in df['Generes'] for genre in genres]\n",
    "genre_counts = pd.Series(genres).value_counts()\n",
    "\n",
    "plt.figure(figsize=(12, 6))\n",
    "sns.barplot(x=genre_counts.index, y=genre_counts.values)\n",
    "plt.title('Distribution of Movie Genres')\n",
    "plt.xlabel('Genre')\n",
    "plt.ylabel('Count')\n",
    "plt.xticks(rotation=45)\n",
    "plt.tight_layout()\n",
    "plt.savefig(os.path.join(analysis_dir, 'genre_distribution.png'))\n",
    "plt.close()"
   ]
  },
  {
   "cell_type": "code",
   "execution_count": 42,
   "metadata": {},
   "outputs": [],
   "source": [
    "# Analyze year distribution\n",
    "plt.figure(figsize=(12, 6))\n",
    "df['year'].value_counts().sort_index().plot(kind='bar')\n",
    "plt.title('Distribution of Movies by Year')\n",
    "plt.xlabel('Year')\n",
    "plt.ylabel('Count')\n",
    "plt.tight_layout()\n",
    "plt.savefig(os.path.join(analysis_dir, 'year_distribution.png'))\n",
    "plt.close()"
   ]
  },
  {
   "cell_type": "code",
   "execution_count": 43,
   "metadata": {},
   "outputs": [],
   "source": [
    "# Analyze user ratings\n",
    "plt.figure(figsize=(12, 6))\n",
    "sns.histplot(df['User Rating'], bins=20, kde=True)\n",
    "plt.title('Distribution of User Ratings')\n",
    "plt.xlabel('User Rating (Quantile)')\n",
    "plt.ylabel('Count')\n",
    "plt.tight_layout()\n",
    "plt.savefig(os.path.join(analysis_dir, 'user_rating_distribution.png'))\n",
    "plt.close()"
   ]
  },
  {
   "cell_type": "code",
   "execution_count": 44,
   "metadata": {},
   "outputs": [],
   "source": [
    "# Analyze relationship between user rating and year\n",
    "plt.figure(figsize=(12, 6))\n",
    "sns.scatterplot(x='year', y='User Rating', data=df)\n",
    "plt.title('User Ratings vs. Release Year')\n",
    "plt.xlabel('Release Year')\n",
    "plt.ylabel('User Rating (Quantile)')\n",
    "plt.tight_layout()\n",
    "plt.savefig(os.path.join(analysis_dir, 'user_rating_vs_year.png'))\n",
    "plt.close()"
   ]
  },
  {
   "cell_type": "code",
   "execution_count": 45,
   "metadata": {},
   "outputs": [],
   "source": [
    "# Analyze top cast members\n",
    "top_cast = [cast for casts in df['Top 5 Casts'] for cast in casts]\n",
    "top_cast_counts = pd.Series(top_cast).value_counts().head(10)"
   ]
  },
  {
   "cell_type": "code",
   "execution_count": 46,
   "metadata": {},
   "outputs": [],
   "source": [
    "plt.figure(figsize=(12, 6))\n",
    "sns.barplot(x=top_cast_counts.index, y=top_cast_counts.values)\n",
    "plt.title('Top 10 Cast Members')\n",
    "plt.xlabel('Cast Member')\n",
    "plt.ylabel('Count')\n",
    "plt.xticks(rotation=45, ha='right')\n",
    "plt.tight_layout()\n",
    "plt.savefig(os.path.join(analysis_dir, 'top_cast_members.png'))\n",
    "plt.close()"
   ]
  },
  {
   "cell_type": "code",
   "execution_count": 47,
   "metadata": {},
   "outputs": [],
   "source": [
    "# Analyze correlation between features\n",
    "numeric_df = df[['User Rating', 'year']]\n",
    "correlation = numeric_df.corr()"
   ]
  },
  {
   "cell_type": "code",
   "execution_count": 48,
   "metadata": {},
   "outputs": [],
   "source": [
    "plt.figure(figsize=(8, 6))\n",
    "sns.heatmap(correlation, annot=True, cmap='coolwarm')\n",
    "plt.title('Correlation Heatmap')\n",
    "plt.tight_layout()\n",
    "plt.savefig(os.path.join(analysis_dir, 'correlation_heatmap.png'))\n",
    "plt.close()"
   ]
  },
  {
   "cell_type": "code",
   "execution_count": 49,
   "metadata": {},
   "outputs": [
    {
     "name": "stdout",
     "output_type": "stream",
     "text": [
      "        User Rating          year\n",
      "count  23433.000000  23433.000000\n",
      "mean      43.308198   1999.212820\n",
      "std       26.916357     22.133057\n",
      "min        0.000000   1906.000000\n",
      "25%       20.000000   1987.000000\n",
      "50%       43.000000   2007.000000\n",
      "75%       66.000000   2017.000000\n",
      "max       90.000000   2028.000000\n"
     ]
    }
   ],
   "source": [
    "# Print summary statistics\n",
    "print(df.describe())"
   ]
  },
  {
   "cell_type": "code",
   "execution_count": 50,
   "metadata": {},
   "outputs": [
    {
     "name": "stdout",
     "output_type": "stream",
     "text": [
      "Top 5 movies by User Rating:\n",
      "                movie title  User Rating    year\n",
      "13            Jurassic Park           90  1993.0\n",
      "16               The Batman           90  2022.0\n",
      "19           Jurassic World           90  2015.0\n",
      "24  Spider-Man: No Way Home           90  2021.0\n",
      "34                     Dune           90  1984.0\n",
      "\n",
      "Most common plot keywords:\n",
      "murder              1190\n",
      "femalenudity        1152\n",
      "psychotronicfilm     964\n",
      "revenge              645\n",
      "sexscene             635\n",
      "Name: count, dtype: int64\n",
      "\n",
      "Average User Rating by Genre:\n",
      "Generes\n",
      "Biography     57.129132\n",
      "Reality-TV    56.000000\n",
      "Music         54.930180\n",
      "Sport         52.641399\n",
      "Comedy        49.814220\n",
      "Romance       49.801920\n",
      "Fantasy       49.118182\n",
      "Mystery       48.971513\n",
      "History       46.882265\n",
      "Musical       45.451104\n",
      "Drama         45.264452\n",
      "Animation     45.241379\n",
      "War           45.205882\n",
      "Horror        44.183153\n",
      "Sci-Fi        43.697911\n",
      "Family        42.561922\n",
      "Adventure     42.530780\n",
      "Thriller      41.265384\n",
      "Crime         41.029067\n",
      "Film-Noir     39.119741\n",
      "Action        38.726782\n",
      "Western       35.255892\n",
      "Game-Show      2.000000\n",
      "Adult          1.000000\n",
      "Name: User Rating, dtype: float64\n",
      "Analysis complete. All plots have been saved in the 'analysis_plots' directory.\n"
     ]
    }
   ],
   "source": [
    "# Additional insights\n",
    "print(\"Top 5 movies by User Rating:\")\n",
    "print(df.nlargest(5, 'User Rating')[['movie title', 'User Rating', 'year']])\n",
    "\n",
    "print(\"\\nMost common plot keywords:\")\n",
    "plot_keywords = [keyword for keywords in df['Plot Kyeword'] for keyword in keywords]\n",
    "print(pd.Series(plot_keywords).value_counts().head())\n",
    "\n",
    "print(\"\\nAverage User Rating by Genre:\")\n",
    "genre_ratings = df.explode('Generes').groupby('Generes')['User Rating'].mean().sort_values(ascending=False)\n",
    "print(genre_ratings)\n",
    "\n",
    "# Save text-based insights to a file\n",
    "with open(os.path.join(analysis_dir, 'text_insights.txt'), 'w') as f:\n",
    "    f.write(\"Top 5 movies by User Rating:\\n\")\n",
    "    f.write(df.nlargest(5, 'User Rating')[['movie title', 'User Rating', 'year']].to_string())\n",
    "    f.write(\"\\n\\nMost common plot keywords:\\n\")\n",
    "    f.write(pd.Series(plot_keywords).value_counts().head().to_string())\n",
    "    f.write(\"\\n\\nAverage User Rating by Genre:\\n\")\n",
    "    f.write(genre_ratings.to_string())\n",
    "\n",
    "print(f\"Analysis complete. All plots have been saved in the '{analysis_dir}' directory.\")"
   ]
  },
  {
   "cell_type": "code",
   "execution_count": null,
   "metadata": {},
   "outputs": [],
   "source": []
  }
 ],
 "metadata": {
  "kernelspec": {
   "display_name": "env",
   "language": "python",
   "name": "python3"
  },
  "language_info": {
   "codemirror_mode": {
    "name": "ipython",
    "version": 3
   },
   "file_extension": ".py",
   "mimetype": "text/x-python",
   "name": "python",
   "nbconvert_exporter": "python",
   "pygments_lexer": "ipython3",
   "version": "3.12.3"
  }
 },
 "nbformat": 4,
 "nbformat_minor": 2
}
